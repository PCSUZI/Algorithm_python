{
 "cells": [
  {
   "cell_type": "code",
   "execution_count": 8,
   "id": "b1cf3ac1",
   "metadata": {},
   "outputs": [
    {
     "name": "stdout",
     "output_type": "stream",
     "text": [
      "4 2\n",
      "1 1 1 1\n",
      "3\n"
     ]
    }
   ],
   "source": [
    "# 2003 수들의 합2\n",
    "import sys\n",
    "\n",
    "n, goal = map(int,input().split())\n",
    "s = list(map(int,input().split()))\n",
    "count = sum = end =0\n",
    "\n",
    "for start in range(n):\n",
    "    while sum < goal and end < n:\n",
    "        sum += s[end]\n",
    "        end+=1\n",
    "    if sum == goal:\n",
    "        count+=1\n",
    "    sum -= s[start]\n",
    "\n",
    "print(count)"
   ]
  },
  {
   "cell_type": "code",
   "execution_count": null,
   "id": "967d48ea",
   "metadata": {},
   "outputs": [],
   "source": []
  }
 ],
 "metadata": {
  "kernelspec": {
   "display_name": "Python 3",
   "language": "python",
   "name": "python3"
  },
  "language_info": {
   "codemirror_mode": {
    "name": "ipython",
    "version": 3
   },
   "file_extension": ".py",
   "mimetype": "text/x-python",
   "name": "python",
   "nbconvert_exporter": "python",
   "pygments_lexer": "ipython3",
   "version": "3.8.8"
  }
 },
 "nbformat": 4,
 "nbformat_minor": 5
}
