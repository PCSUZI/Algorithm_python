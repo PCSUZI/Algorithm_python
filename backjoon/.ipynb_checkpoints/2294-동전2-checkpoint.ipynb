{
 "cells": [
  {
   "cell_type": "code",
   "execution_count": 1,
   "id": "b4d05c8b",
   "metadata": {},
   "outputs": [
    {
     "name": "stdout",
     "output_type": "stream",
     "text": [
      "3 15\n",
      "1\n",
      "4\n",
      "12\n",
      "4\n"
     ]
    }
   ],
   "source": [
    "n, k = map(int, input().split()) \n",
    "# n: 동전의 종류, k: 가치의 합 \n",
    "c = []\n",
    "\n",
    "for i in range(n):\n",
    "    c.append(int(input()))\n",
    "\n",
    "dp = [0] + [100001 for _ in range(k)]\n",
    "for i in c:\n",
    "    for j in range(1, k+1):\n",
    "        if j - i >= 0:\n",
    "            dp[j] = min(dp[j-i]+1, dp[j])\n",
    "if dp[k] != 100001:\n",
    "    print(dp[k])\n",
    "else:\n",
    "    print(-1)\n"
   ]
  },
  {
   "cell_type": "code",
   "execution_count": null,
   "id": "65e4dfda",
   "metadata": {},
   "outputs": [],
   "source": []
  }
 ],
 "metadata": {
  "kernelspec": {
   "display_name": "Python 3",
   "language": "python",
   "name": "python3"
  },
  "language_info": {
   "codemirror_mode": {
    "name": "ipython",
    "version": 3
   },
   "file_extension": ".py",
   "mimetype": "text/x-python",
   "name": "python",
   "nbconvert_exporter": "python",
   "pygments_lexer": "ipython3",
   "version": "3.8.8"
  }
 },
 "nbformat": 4,
 "nbformat_minor": 5
}
