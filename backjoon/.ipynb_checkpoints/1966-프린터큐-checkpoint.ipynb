{
 "cells": [
  {
   "cell_type": "code",
   "execution_count": 28,
   "id": "1ee1bd2e",
   "metadata": {},
   "outputs": [
    {
     "name": "stdout",
     "output_type": "stream",
     "text": [
      "3\n",
      "1 0\n",
      "5\n",
      "[1, 0]\n",
      "[5]\n",
      "0\n",
      "priority 5\n",
      "printQ: {}\n",
      "(0, 5)\n",
      "4 2\n",
      "1 2 3 4\n",
      "[4, 2]\n",
      "[1, 2, 3, 4]\n",
      "0\n",
      "priority 1\n",
      "printQ: {}\n",
      "1\n",
      "priority 2\n",
      "printQ: {0: 1}\n",
      "2\n",
      "priority 3\n",
      "printQ: {0: 1, 1: 2}\n",
      "3\n",
      "priority 4\n",
      "printQ: {0: 1, 1: 2, 2: 3}\n",
      "(2, 3)\n",
      "6 0\n",
      "1 1 9 1 1 1\n",
      "[6, 0]\n",
      "[1, 1, 9, 1, 1, 1]\n",
      "0\n",
      "priority 1\n",
      "printQ: {}\n",
      "1\n",
      "priority 1\n",
      "printQ: {0: 1}\n",
      "2\n",
      "priority 9\n",
      "printQ: {0: 1, 1: 1}\n",
      "3\n",
      "priority 1\n",
      "printQ: {0: 1, 1: 1, 2: 9}\n",
      "4\n",
      "priority 1\n",
      "printQ: {0: 1, 1: 1, 2: 9, 3: 1}\n",
      "5\n",
      "priority 1\n",
      "printQ: {0: 1, 1: 1, 2: 9, 3: 1, 4: 1}\n",
      "(0, 1)\n"
     ]
    }
   ],
   "source": [
    "testCase = int(input())\n",
    "\n",
    "for i in range(testCase):\n",
    "    N = list(map(int,input().split()))\n",
    "    priorityQ = list(map(int, input().split()))\n",
    "    priorityQ = [(i,idx) for idx, i in enumerate(priorityQ)]\n",
    "    \n",
    "    count = 0\n",
    "    while True:\n",
    "        if priorityQ[0][0] == max(priorityQ,key = lambda x:x[0])[0]:\n",
    "            count+=1\n",
    "            if priorityQ[0][1] == N[1]:\n",
    "                print(count)\n",
    "                break\n",
    "            else:\n",
    "                priorityQ.pop(0)\n",
    "        else:\n",
    "            priorityQ.append(priorityQ.pop(0))"
   ]
  },
  {
   "cell_type": "markdown",
   "id": "cc0f8f4f",
   "metadata": {},
   "source": [
    "##### "
   ]
  },
  {
   "cell_type": "code",
   "execution_count": null,
   "id": "3f6ad431",
   "metadata": {},
   "outputs": [],
   "source": []
  }
 ],
 "metadata": {
  "kernelspec": {
   "display_name": "Python 3",
   "language": "python",
   "name": "python3"
  },
  "language_info": {
   "codemirror_mode": {
    "name": "ipython",
    "version": 3
   },
   "file_extension": ".py",
   "mimetype": "text/x-python",
   "name": "python",
   "nbconvert_exporter": "python",
   "pygments_lexer": "ipython3",
   "version": "3.8.8"
  }
 },
 "nbformat": 4,
 "nbformat_minor": 5
}
