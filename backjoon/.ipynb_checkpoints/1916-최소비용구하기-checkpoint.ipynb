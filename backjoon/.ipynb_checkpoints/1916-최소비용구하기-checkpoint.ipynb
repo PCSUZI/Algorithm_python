{
 "cells": [
  {
   "cell_type": "code",
   "execution_count": 54,
   "id": "2e7fee25",
   "metadata": {},
   "outputs": [
    {
     "name": "stdout",
     "output_type": "stream",
     "text": [
      "2\n",
      "2\n",
      "1 2 10\n",
      "1 2 20\n",
      "1 2\n",
      "10\n"
     ]
    }
   ],
   "source": [
    "import heapq\n",
    "import sys\n",
    "INF = sys.maxsize\n",
    "\n",
    "n = int(input())\n",
    "m = int(input())\n",
    "mygraph = []\n",
    "result = {}\n",
    "queue = []\n",
    "\n",
    "for i in range(0,n+1):\n",
    "    mygraph.append([])\n",
    "    result[i] = INF\n",
    "\n",
    "for i in range(m):\n",
    "    start, end, weight = map(int,sys.stdin.readline().split())\n",
    "    mygraph[start].append([end,weight])\n",
    "\n",
    "startNode, endNode = map(int,sys.stdin.readline().split())\n",
    "result[startNode] = 0\n",
    "heapq.heappush(queue,[result[startNode],startNode])\n",
    "\n",
    "while queue:\n",
    "    curWeight, curNode = heapq.heappop(queue)\n",
    "    \n",
    "    if result[curNode] < curWeight:\n",
    "        continue\n",
    "    for node,weight in mygraph[curNode]:\n",
    "        newWight = curWeight+weight\n",
    "        if newWight < result[node]:\n",
    "            result[node] = newWight\n",
    "            heapq.heappush(queue,[newWight,node])\n",
    "            \n",
    "print(result[endNode])"
   ]
  },
  {
   "cell_type": "code",
   "execution_count": null,
   "id": "a32ad99d",
   "metadata": {},
   "outputs": [],
   "source": []
  }
 ],
 "metadata": {
  "kernelspec": {
   "display_name": "Python 3",
   "language": "python",
   "name": "python3"
  },
  "language_info": {
   "codemirror_mode": {
    "name": "ipython",
    "version": 3
   },
   "file_extension": ".py",
   "mimetype": "text/x-python",
   "name": "python",
   "nbconvert_exporter": "python",
   "pygments_lexer": "ipython3",
   "version": "3.8.8"
  }
 },
 "nbformat": 4,
 "nbformat_minor": 5
}
