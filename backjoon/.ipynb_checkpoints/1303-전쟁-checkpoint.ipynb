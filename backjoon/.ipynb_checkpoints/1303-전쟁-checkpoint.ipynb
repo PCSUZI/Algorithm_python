{
 "cells": [
  {
   "cell_type": "code",
   "execution_count": 24,
   "id": "ce4c926d",
   "metadata": {},
   "outputs": [
    {
     "name": "stdout",
     "output_type": "stream",
     "text": [
      "5 5\n",
      "WBWWW\n",
      "WWWWW\n",
      "BBBBB\n",
      "BBBWW\n",
      "WWWWW\n",
      "130 81\n"
     ]
    }
   ],
   "source": [
    "def bfs(graph,i,j,team):\n",
    "    dx = [0,0,-1,1]\n",
    "    dy = [1,-1,0,0]\n",
    "    h = len(graph)\n",
    "    w = len(graph[0])\n",
    "    queue = []\n",
    "    queue.append((i,j))\n",
    "    graph[i][j]=0\n",
    "    cnt = 1\n",
    "    \n",
    "    while queue:\n",
    "        x,y = queue.pop(0)\n",
    "        for i in range(4):\n",
    "            nx = x+dx[i]\n",
    "            ny = y+dy[i]\n",
    "            if nx < 0 or nx>=h or ny < 0 or ny>=w:\n",
    "                continue\n",
    "            if graph[nx][ny]==team:\n",
    "                cnt+=1\n",
    "                graph[nx][ny]=0\n",
    "                queue.append((nx,ny))\n",
    "    return cnt\n",
    "\n",
    "w, h= map(int,input().split())\n",
    "graph = []\n",
    "W = 0\n",
    "B = 0\n",
    "\n",
    "for i in range(h):\n",
    "    row = list(input())\n",
    "    graph.append(row)\n",
    "    \n",
    "\n",
    "for i in range(h):\n",
    "    for j in range(w):\n",
    "        if graph[i][j] == 'W':\n",
    "            W+= (bfs(graph,i,j,'W'))**2\n",
    "        elif graph[i][j] == 'B':\n",
    "            B += (bfs(graph,i,j,'B'))**2\n",
    "            \n",
    "\n",
    "print(W,B)"
   ]
  },
  {
   "cell_type": "code",
   "execution_count": 4,
   "id": "84fefc3e",
   "metadata": {},
   "outputs": [
    {
     "name": "stdout",
     "output_type": "stream",
     "text": [
      "1 2\n",
      "1 2\n"
     ]
    }
   ],
   "source": [
    "n, m= map(int,input().split())\n",
    "print(n,m)"
   ]
  },
  {
   "cell_type": "code",
   "execution_count": null,
   "id": "3e93d111",
   "metadata": {},
   "outputs": [],
   "source": []
  }
 ],
 "metadata": {
  "kernelspec": {
   "display_name": "Python 3",
   "language": "python",
   "name": "python3"
  },
  "language_info": {
   "codemirror_mode": {
    "name": "ipython",
    "version": 3
   },
   "file_extension": ".py",
   "mimetype": "text/x-python",
   "name": "python",
   "nbconvert_exporter": "python",
   "pygments_lexer": "ipython3",
   "version": "3.8.8"
  }
 },
 "nbformat": 4,
 "nbformat_minor": 5
}
