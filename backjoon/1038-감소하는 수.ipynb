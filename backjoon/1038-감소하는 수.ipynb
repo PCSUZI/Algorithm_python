{
 "cells": [
  {
   "cell_type": "code",
   "execution_count": 78,
   "id": "95fff0b4",
   "metadata": {},
   "outputs": [
    {
     "name": "stdout",
     "output_type": "stream",
     "text": [
      "50000\n",
      "-1\n"
     ]
    }
   ],
   "source": [
    "def isDecreaseNumber(n):\n",
    "    n = list(str(n))\n",
    "    for i in range(len(n)-1):\n",
    "        if n[i] > n[i+1]:\n",
    "            continue\n",
    "        else:\n",
    "            n[i] = str(int(n[i])+1)\n",
    "            n[i+1] = '0'\n",
    "            return \"\".join(n) #감소하는 수가 문제 구간에서 변경 후 수 리턴\n",
    "    return True # 감소하는 수일때\n",
    "\n",
    "def getValue(index):\n",
    "    if index < 10:\n",
    "        return index\n",
    "    elif n > 1022:\n",
    "        return -1\n",
    "    else:\n",
    "        number = 9\n",
    "        countIndex = 9\n",
    "        while countIndex <=index:\n",
    "            check = isDecreaseNumber(number)\n",
    "            if check == True:\n",
    "                if countIndex == index:\n",
    "                    break\n",
    "                else:\n",
    "                    countIndex+=1\n",
    "                    number+=1\n",
    "            else:\n",
    "                number = int(check)\n",
    "        return number\n",
    "\n",
    "n = int(input())\n",
    "print(getValue(n))\n"
   ]
  },
  {
   "cell_type": "code",
   "execution_count": null,
   "id": "69032d30",
   "metadata": {},
   "outputs": [],
   "source": []
  }
 ],
 "metadata": {
  "kernelspec": {
   "display_name": "Python 3",
   "language": "python",
   "name": "python3"
  },
  "language_info": {
   "codemirror_mode": {
    "name": "ipython",
    "version": 3
   },
   "file_extension": ".py",
   "mimetype": "text/x-python",
   "name": "python",
   "nbconvert_exporter": "python",
   "pygments_lexer": "ipython3",
   "version": "3.8.8"
  }
 },
 "nbformat": 4,
 "nbformat_minor": 5
}
