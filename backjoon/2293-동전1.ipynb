{
 "cells": [
  {
   "cell_type": "code",
   "execution_count": 12,
   "id": "d680bac2",
   "metadata": {},
   "outputs": [
    {
     "name": "stdout",
     "output_type": "stream",
     "text": [
      "3 10\n",
      "1\n",
      "2\n",
      "5\n",
      "10\n"
     ]
    }
   ],
   "source": [
    "n, k = map(int, input().split())\n",
    "c = []\n",
    "dp = [0 for i in range(k + 1)]\n",
    "dp[0] = 1\n",
    "for i in range(n):\n",
    "    c.append(int(input()))\n",
    "for i in c:\n",
    "    for j in range(1, k + 1):\n",
    "        if j - i >= 0:\n",
    "            dp[j] += dp[j - i]\n",
    "print(dp[k])"
   ]
  },
  {
   "cell_type": "code",
   "execution_count": null,
   "id": "b99aadc7",
   "metadata": {},
   "outputs": [],
   "source": []
  }
 ],
 "metadata": {
  "kernelspec": {
   "display_name": "Python 3",
   "language": "python",
   "name": "python3"
  },
  "language_info": {
   "codemirror_mode": {
    "name": "ipython",
    "version": 3
   },
   "file_extension": ".py",
   "mimetype": "text/x-python",
   "name": "python",
   "nbconvert_exporter": "python",
   "pygments_lexer": "ipython3",
   "version": "3.8.8"
  }
 },
 "nbformat": 4,
 "nbformat_minor": 5
}
