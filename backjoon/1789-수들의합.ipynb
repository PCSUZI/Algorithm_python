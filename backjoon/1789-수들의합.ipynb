{
 "cells": [
  {
   "cell_type": "code",
   "execution_count": 16,
   "id": "76a73e6b",
   "metadata": {},
   "outputs": [
    {
     "name": "stdout",
     "output_type": "stream",
     "text": [
      "7\n",
      "3\n"
     ]
    }
   ],
   "source": [
    "s = int(input())\n",
    "result = []\n",
    "sum = 0\n",
    "curNum = 1\n",
    "\n",
    "while True:\n",
    "    sum += curNum\n",
    "    if s==sum:\n",
    "        result.append(curNum)\n",
    "        break\n",
    "    elif sum < s:\n",
    "        result.append(curNum)\n",
    "        curNum+=1\n",
    "    else:\n",
    "        break\n",
    "        \n",
    "    \n",
    "print(len(result))"
   ]
  },
  {
   "cell_type": "code",
   "execution_count": null,
   "id": "ec8d7294",
   "metadata": {},
   "outputs": [],
   "source": []
  }
 ],
 "metadata": {
  "kernelspec": {
   "display_name": "Python 3",
   "language": "python",
   "name": "python3"
  },
  "language_info": {
   "codemirror_mode": {
    "name": "ipython",
    "version": 3
   },
   "file_extension": ".py",
   "mimetype": "text/x-python",
   "name": "python",
   "nbconvert_exporter": "python",
   "pygments_lexer": "ipython3",
   "version": "3.8.8"
  }
 },
 "nbformat": 4,
 "nbformat_minor": 5
}
