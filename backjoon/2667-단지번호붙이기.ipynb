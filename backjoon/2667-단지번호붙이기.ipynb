{
 "cells": [
  {
   "cell_type": "code",
   "execution_count": 18,
   "id": "2a3b35c0",
   "metadata": {},
   "outputs": [
    {
     "name": "stdout",
     "output_type": "stream",
     "text": [
      "126\n"
     ]
    }
   ],
   "source": [
    "my = [1,1,1,1,1,1]\n",
    "def test(index,sum):\n",
    "    if index<len(my):\n",
    "        sum = test(index+1,sum+1)\n",
    "    if index<len(my):\n",
    "        sum = test(index+1,sum+1)\n",
    "    return sum\n",
    "\n",
    "print(test(0,0))"
   ]
  },
  {
   "cell_type": "code",
   "execution_count": 39,
   "id": "e0db7200",
   "metadata": {},
   "outputs": [
    {
     "name": "stdout",
     "output_type": "stream",
     "text": [
      "7\n",
      "0110100\n",
      "0110101\n",
      "1110101\n",
      "0000111\n",
      "0100000\n",
      "0111110\n",
      "0111000\n",
      "3\n",
      "7\n",
      "8\n",
      "9\n"
     ]
    }
   ],
   "source": [
    "def bfs(graph,i,j):\n",
    "    dx = [0,0,-1,1]\n",
    "    dy = [1,-1,0,0]\n",
    "    n = len(graph)\n",
    "    queue = []\n",
    "    queue.append((i,j))\n",
    "    graph[i][j] = 0\n",
    "    cnt = 1\n",
    "\n",
    "    while queue:\n",
    "        x,y = queue.pop(0)\n",
    "        for i in range(4):\n",
    "            nx = x+dx[i]\n",
    "            ny = y+dy[i]\n",
    "            if nx < 0 or nx>=n or ny < 0 or ny>=n:\n",
    "                continue\n",
    "            if graph[nx][ny]==1:\n",
    "                cnt+=1\n",
    "                graph[nx][ny]=0\n",
    "                queue.append((nx,ny))\n",
    "    return cnt\n",
    "\n",
    "\n",
    "n = int(input())\n",
    "graph = []\n",
    "result = []\n",
    "\n",
    "for i in range(n):\n",
    "    row = list(input())\n",
    "    graph.append(list(map(int,row)))\n",
    "\n",
    "for i in range(n):\n",
    "    for j in range(n):\n",
    "        if graph[i][j]==1:\n",
    "            result.append(bfs(graph,i,j))\n",
    "            \n",
    "result.sort()\n",
    "print(len(result))\n",
    "for i in result:\n",
    "    print(i)"
   ]
  },
  {
   "cell_type": "code",
   "execution_count": null,
   "id": "1cbb536c",
   "metadata": {},
   "outputs": [],
   "source": []
  }
 ],
 "metadata": {
  "kernelspec": {
   "display_name": "Python 3",
   "language": "python",
   "name": "python3"
  },
  "language_info": {
   "codemirror_mode": {
    "name": "ipython",
    "version": 3
   },
   "file_extension": ".py",
   "mimetype": "text/x-python",
   "name": "python",
   "nbconvert_exporter": "python",
   "pygments_lexer": "ipython3",
   "version": "3.8.8"
  }
 },
 "nbformat": 4,
 "nbformat_minor": 5
}
