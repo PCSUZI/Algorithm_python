{
 "cells": [
  {
   "cell_type": "markdown",
   "id": "8ec092ab",
   "metadata": {},
   "source": [
    "### 내가 짠 코드"
   ]
  },
  {
   "cell_type": "code",
   "execution_count": 43,
   "id": "2e09f6aa",
   "metadata": {},
   "outputs": [
    {
     "name": "stdout",
     "output_type": "stream",
     "text": [
      "8\n",
      "4\n",
      "3\n",
      "6\n",
      "8\n",
      "7\n",
      "5\n",
      "2\n",
      "1\n",
      "+\n",
      "+\n",
      "+\n",
      "+\n",
      "-\n",
      "-\n",
      "+\n",
      "+\n",
      "-\n",
      "+\n",
      "+\n",
      "-\n",
      "-\n",
      "-\n",
      "-\n",
      "-\n"
     ]
    }
   ],
   "source": [
    "N = int(input())\n",
    "result = list()\n",
    "stack = list()\n",
    "sequence = list()\n",
    "sequenceIndex = 0\n",
    "\n",
    "number = 1\n",
    "\n",
    "for i in range(N):\n",
    "    sequence.append(int(input()))\n",
    "\n",
    "result.append('+')\n",
    "stack.append(number)\n",
    "\n",
    "while sequenceIndex<N:\n",
    "    if stack[-1]<sequence[sequenceIndex]:\n",
    "        number+=1\n",
    "        result.append('+')\n",
    "        stack.append(number)\n",
    "    if stack[-1]==sequence[sequenceIndex]:\n",
    "        stack.pop()\n",
    "        result.append('-')\n",
    "        sequenceIndex+=1\n",
    "        \n",
    "        if number<N and not stack:\n",
    "            number+=1\n",
    "            result.append('+')\n",
    "            stack.append(number)\n",
    "            \n",
    "    elif stack[-1]>sequence[sequenceIndex]:\n",
    "        result.append(\"NO\")\n",
    "        break\n",
    "\n",
    "\n",
    "if result[-1] == \"NO\":\n",
    "    print(\"NO\")\n",
    "else:\n",
    "    for i in result:\n",
    "        print(i)\n",
    "\n",
    "        "
   ]
  },
  {
   "cell_type": "markdown",
   "id": "29934472",
   "metadata": {},
   "source": [
    "### 해설"
   ]
  },
  {
   "cell_type": "code",
   "execution_count": 46,
   "id": "10e6bdb8",
   "metadata": {},
   "outputs": [
    {
     "name": "stdout",
     "output_type": "stream",
     "text": [
      "8\n",
      "4\n",
      "3\n",
      "6\n",
      "8\n",
      "7\n",
      "5\n",
      "2\n",
      "1\n",
      "+\n",
      "+\n",
      "+\n",
      "+\n",
      "-\n",
      "-\n",
      "+\n",
      "+\n",
      "-\n",
      "+\n",
      "+\n",
      "-\n",
      "-\n",
      "-\n",
      "-\n",
      "-\n"
     ]
    }
   ],
   "source": [
    "n = int(input())\n",
    "\n",
    "count = 1\n",
    "stack = []\n",
    "result = []\n",
    "\n",
    "for i in range(1,n+1):\n",
    "    data = int(input())\n",
    "    while count <= data:\n",
    "        stack.append(count)\n",
    "        count+=1\n",
    "        result.append('+')\n",
    "    if stack[-1] == data:\n",
    "        stack.pop()\n",
    "        result.append('-')\n",
    "    else:\n",
    "        print('NO')\n",
    "        exit(0)\n",
    "        \n",
    "print('\\n'.join(result))"
   ]
  },
  {
   "cell_type": "markdown",
   "id": "edb70b58",
   "metadata": {},
   "source": [
    "해설이 좀 더 간결하고 가독성이 좋다.\n",
    "python 에서는 [] 리스트 표현\n",
    "exit(0) 종료"
   ]
  },
  {
   "cell_type": "code",
   "execution_count": null,
   "id": "56190b54",
   "metadata": {},
   "outputs": [],
   "source": []
  }
 ],
 "metadata": {
  "kernelspec": {
   "display_name": "Python 3",
   "language": "python",
   "name": "python3"
  },
  "language_info": {
   "codemirror_mode": {
    "name": "ipython",
    "version": 3
   },
   "file_extension": ".py",
   "mimetype": "text/x-python",
   "name": "python",
   "nbconvert_exporter": "python",
   "pygments_lexer": "ipython3",
   "version": "3.8.8"
  }
 },
 "nbformat": 4,
 "nbformat_minor": 5
}
