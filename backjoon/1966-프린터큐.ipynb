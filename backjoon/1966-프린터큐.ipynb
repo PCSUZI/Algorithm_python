{
 "cells": [
  {
   "cell_type": "code",
   "execution_count": 28,
   "id": "1ee1bd2e",
   "metadata": {},
   "outputs": [
    {
     "name": "stdout",
     "output_type": "stream",
     "text": [
      "3\n",
      "1 0\n",
      "5\n",
      "[1, 0]\n",
      "[5]\n",
      "0\n",
      "priority 5\n",
      "printQ: {}\n",
      "(0, 5)\n",
      "4 2\n",
      "1 2 3 4\n",
      "[4, 2]\n",
      "[1, 2, 3, 4]\n",
      "0\n",
      "priority 1\n",
      "printQ: {}\n",
      "1\n",
      "priority 2\n",
      "printQ: {0: 1}\n",
      "2\n",
      "priority 3\n",
      "printQ: {0: 1, 1: 2}\n",
      "3\n",
      "priority 4\n",
      "printQ: {0: 1, 1: 2, 2: 3}\n",
      "(2, 3)\n",
      "6 0\n",
      "1 1 9 1 1 1\n",
      "[6, 0]\n",
      "[1, 1, 9, 1, 1, 1]\n",
      "0\n",
      "priority 1\n",
      "printQ: {}\n",
      "1\n",
      "priority 1\n",
      "printQ: {0: 1}\n",
      "2\n",
      "priority 9\n",
      "printQ: {0: 1, 1: 1}\n",
      "3\n",
      "priority 1\n",
      "printQ: {0: 1, 1: 1, 2: 9}\n",
      "4\n",
      "priority 1\n",
      "printQ: {0: 1, 1: 1, 2: 9, 3: 1}\n",
      "5\n",
      "priority 1\n",
      "printQ: {0: 1, 1: 1, 2: 9, 3: 1, 4: 1}\n",
      "(0, 1)\n"
     ]
    }
   ],
   "source": [
    "result = []\n",
    "printQ = {}\n",
    "\n",
    "\n",
    "n = int(input())\n",
    "\n",
    "for i in range(n):\n",
    "    document = list(map(int,input().split()))\n",
    "    priority = list(map(int,input().split()))\n",
    "    print(document)\n",
    "    print(priority)\n",
    "    for j in range(document[0]):\n",
    "        print(j)\n",
    "        print(\"priority\",priority[j])\n",
    "        print(\"printQ:\",printQ)\n",
    "        printQ[j]=priority[j]\n",
    "        \n",
    "        \n",
    "    result = sorted(printQ.items())\n",
    "    print(result[document[1]])\n",
    "    document.clear()\n",
    "    priority.clear()\n",
    "    printQ.clear()"
   ]
  },
  {
   "cell_type": "markdown",
   "id": "cc0f8f4f",
   "metadata": {},
   "source": [
    "##### "
   ]
  },
  {
   "cell_type": "code",
   "execution_count": null,
   "id": "3f6ad431",
   "metadata": {},
   "outputs": [],
   "source": []
  }
 ],
 "metadata": {
  "kernelspec": {
   "display_name": "Python 3",
   "language": "python",
   "name": "python3"
  },
  "language_info": {
   "codemirror_mode": {
    "name": "ipython",
    "version": 3
   },
   "file_extension": ".py",
   "mimetype": "text/x-python",
   "name": "python",
   "nbconvert_exporter": "python",
   "pygments_lexer": "ipython3",
   "version": "3.8.8"
  }
 },
 "nbformat": 4,
 "nbformat_minor": 5
}
