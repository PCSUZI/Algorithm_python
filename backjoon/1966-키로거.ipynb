{
 "cells": [
  {
   "cell_type": "code",
   "execution_count": 20,
   "id": "2743e777",
   "metadata": {},
   "outputs": [
    {
     "name": "stdout",
     "output_type": "stream",
     "text": [
      "1\n",
      "<<BP<A>>Cd-\n",
      "BAPC\n"
     ]
    }
   ],
   "source": [
    "testCase = int(input())\n",
    "\n",
    "for i in range(testCase):\n",
    "    cmd = list(input())\n",
    "    mainStack = []\n",
    "    subStack = []\n",
    "    \n",
    "    for j in cmd:\n",
    "        if j==\"<\":\n",
    "            if mainStack:\n",
    "                subStack.append(mainStack.pop())\n",
    "        elif j==\">\":\n",
    "            if subStack:\n",
    "                mainStack.append(subStack.pop())\n",
    "        elif j == \"-\":\n",
    "            if mainStack:\n",
    "                mainStack.pop()\n",
    "        else:\n",
    "            mainStack.append(j)\n",
    "    \n",
    "    while subStack:\n",
    "        mainStack.append(subStack.pop())\n",
    "\n",
    "    print(\"\".join(mainStack))\n",
    "            \n",
    "    "
   ]
  },
  {
   "cell_type": "code",
   "execution_count": null,
   "id": "e4361360",
   "metadata": {},
   "outputs": [],
   "source": []
  }
 ],
 "metadata": {
  "kernelspec": {
   "display_name": "Python 3",
   "language": "python",
   "name": "python3"
  },
  "language_info": {
   "codemirror_mode": {
    "name": "ipython",
    "version": 3
   },
   "file_extension": ".py",
   "mimetype": "text/x-python",
   "name": "python",
   "nbconvert_exporter": "python",
   "pygments_lexer": "ipython3",
   "version": "3.8.8"
  }
 },
 "nbformat": 4,
 "nbformat_minor": 5
}
