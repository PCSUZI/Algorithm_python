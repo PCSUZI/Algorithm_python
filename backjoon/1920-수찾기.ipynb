{
 "cells": [
  {
   "cell_type": "code",
   "execution_count": 15,
   "id": "bbf267b9",
   "metadata": {},
   "outputs": [
    {
     "name": "stdout",
     "output_type": "stream",
     "text": [
      "5\n",
      "4 1 5 2 3\n",
      "5\n",
      "1 3 7 9 5\n",
      "1\n",
      "1\n",
      "0\n",
      "0\n",
      "1\n"
     ]
    }
   ],
   "source": [
    "# 딕셔너리 이용\n",
    "\n",
    "n = int(input())\n",
    "numArray = list(map(int,input().split()))\n",
    "m = int(input())\n",
    "checkArray = list(map(int,input().split()))\n",
    "\n",
    "dictData = {}\n",
    "\n",
    "for i in range(n):\n",
    "    dictData[numArray[i]] = 1\n",
    "\n",
    "for i in checkArray:\n",
    "    if i in dictData:\n",
    "        print(1)\n",
    "    else:\n",
    "        print(0)\n"
   ]
  },
  {
   "cell_type": "code",
   "execution_count": null,
   "id": "38ed8fac",
   "metadata": {},
   "outputs": [],
   "source": [
    "# set 이용 \n",
    "n = int(input())\n",
    "numArray = set(map(int,input().split())) #중복 불가능하게 집합 형태로 들어감\n",
    "m = int(input())\n",
    "checkArray = list(map(int,input().split()))\n",
    "\n",
    "for i in checkArray:\n",
    "    if i not in numArray:\n",
    "        print('0')\n",
    "    else:\n",
    "        print('1')"
   ]
  }
 ],
 "metadata": {
  "kernelspec": {
   "display_name": "Python 3",
   "language": "python",
   "name": "python3"
  },
  "language_info": {
   "codemirror_mode": {
    "name": "ipython",
    "version": 3
   },
   "file_extension": ".py",
   "mimetype": "text/x-python",
   "name": "python",
   "nbconvert_exporter": "python",
   "pygments_lexer": "ipython3",
   "version": "3.8.8"
  }
 },
 "nbformat": 4,
 "nbformat_minor": 5
}
