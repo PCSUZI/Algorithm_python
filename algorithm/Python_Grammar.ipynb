{
 "cells": [
  {
   "cell_type": "code",
   "execution_count": 6,
   "id": "f0cca59a",
   "metadata": {},
   "outputs": [
    {
     "name": "stdout",
     "output_type": "stream",
     "text": [
      "[2, 'A']\n",
      "[3, 'C']\n",
      "[4, 'D']\n",
      "[5, 'B']\n"
     ]
    }
   ],
   "source": [
    "# heapq 예시\n",
    "import heapq\n",
    "\n",
    "graph_data = [[2,'A'],[5,'B'],[3,'C']]\n",
    "\n",
    "heapq.heapify(graph_data) # heap 형태로 한번에 변환해준다.\n",
    "\n",
    "heapq.heappush(graph_data,[4,'D']) #추가\n",
    "\n",
    "for index in range(len(graph_data)):\n",
    "    print(heapq.heappop(graph_data)) #삭제"
   ]
  },
  {
   "cell_type": "code",
   "execution_count": 8,
   "id": "d72ebddc",
   "metadata": {},
   "outputs": [
    {
     "name": "stdout",
     "output_type": "stream",
     "text": [
      "[]\n",
      "0\n"
     ]
    }
   ],
   "source": [
    "# defaultdict = 초기화하지 않아도 빈 리스트로 초기화 된다.\n",
    "from collections import defaultdict\n",
    "\n",
    "list_dict = defaultdict(list)\n",
    "int_dict = defaultdict(int)\n",
    "\n",
    "print(list_dict['key2'])\n",
    "print(int_dict['key2'])"
   ]
  }
 ],
 "metadata": {
  "kernelspec": {
   "display_name": "Python 3",
   "language": "python",
   "name": "python3"
  },
  "language_info": {
   "codemirror_mode": {
    "name": "ipython",
    "version": 3
   },
   "file_extension": ".py",
   "mimetype": "text/x-python",
   "name": "python",
   "nbconvert_exporter": "python",
   "pygments_lexer": "ipython3",
   "version": "3.8.8"
  }
 },
 "nbformat": 4,
 "nbformat_minor": 5
}
