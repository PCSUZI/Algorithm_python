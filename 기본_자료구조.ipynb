{
 "cells": [
  {
   "cell_type": "markdown",
   "id": "60b90577",
   "metadata": {},
   "source": [
    "## 큐 라이브러리 사용"
   ]
  },
  {
   "cell_type": "code",
   "execution_count": 9,
   "id": "d5855fc5",
   "metadata": {},
   "outputs": [
    {
     "data": {
      "text/plain": [
       "2"
      ]
     },
     "execution_count": 9,
     "metadata": {},
     "output_type": "execute_result"
    }
   ],
   "source": [
    "import queue\n",
    "data_queue = queue.Queue()\n",
    "data_queue.put(1)\n",
    "data_queue.put(\"funcoding\")\n",
    "\n",
    "data_queue.qsize()"
   ]
  },
  {
   "cell_type": "markdown",
   "id": "9d56a483",
   "metadata": {},
   "source": [
    "LifeQueue() -> LIFO \n",
    " / PriorityQueue() -> 우선순위 부여할 수 있다. 우선순위에 따라 출력하는 큐"
   ]
  },
  {
   "cell_type": "code",
   "execution_count": 14,
   "id": "4a183d59",
   "metadata": {},
   "outputs": [],
   "source": [
    "data = queue.PriorityQueue()\n",
    "\n",
    "data.put((1,\"korea\"))"
   ]
  },
  {
   "cell_type": "code",
   "execution_count": 15,
   "id": "acc340cb",
   "metadata": {},
   "outputs": [
    {
     "data": {
      "text/plain": [
       "(1, 'korea')"
      ]
     },
     "execution_count": 15,
     "metadata": {},
     "output_type": "execute_result"
    }
   ],
   "source": [
    "data.get()"
   ]
  },
  {
   "cell_type": "markdown",
   "id": "44229482",
   "metadata": {},
   "source": [
    "## 큐 직접 구현"
   ]
  },
  {
   "cell_type": "code",
   "execution_count": 21,
   "id": "d0adc059",
   "metadata": {},
   "outputs": [
    {
     "name": "stdout",
     "output_type": "stream",
     "text": [
      "0\n",
      "1\n",
      "2\n",
      "3\n"
     ]
    }
   ],
   "source": [
    "class MyQueue:\n",
    "    def __init__(self):\n",
    "        self.myData = []\n",
    "    def Enqueue(self, value):\n",
    "        self.myData.append(value)\n",
    "    def Dequeue(self):\n",
    "        result = self.myData[0]\n",
    "        del self.myData[0]\n",
    "        return result\n",
    "    \n",
    "myQueue = MyQueue()\n",
    "for index in range(10):\n",
    "    myQueue.Enqueue(index)\n",
    "\n",
    "print(myQueue.Dequeue())\n",
    "print(myQueue.Dequeue())\n",
    "print(myQueue.Dequeue())\n",
    "print(myQueue.Dequeue())"
   ]
  },
  {
   "cell_type": "markdown",
   "id": "e8af4b5f",
   "metadata": {},
   "source": [
    "## 스택\n"
   ]
  },
  {
   "cell_type": "code",
   "execution_count": 4,
   "id": "13a8b647",
   "metadata": {},
   "outputs": [
    {
     "name": "stdout",
     "output_type": "stream",
     "text": [
      "9\n",
      "8\n",
      "7\n",
      "6\n"
     ]
    }
   ],
   "source": [
    "class MyStack:\n",
    "    def __init__(self):\n",
    "        self.myData=[]\n",
    "    def push(self, value):\n",
    "        self.myData.append(value)\n",
    "    def pop(self):\n",
    "        index =len(self.myData)-1 #다른 방법 : self.myData[-1] ->맨 끝값 반환\n",
    "        if index < 0:\n",
    "            return False\n",
    "        else:\n",
    "            result = self.myData[index]\n",
    "            del self.myData[index]\n",
    "            return result\n",
    "            \n",
    "myStack = MyStack()\n",
    "for index in range(10):\n",
    "    myStack.push(index)\n",
    "\n",
    "print(myStack.pop())\n",
    "print(myStack.pop())\n",
    "print(myStack.pop())\n",
    "print(myStack.pop())"
   ]
  },
  {
   "cell_type": "markdown",
   "id": "2f0a17e0",
   "metadata": {},
   "source": [
    "## 링크드리스트"
   ]
  },
  {
   "cell_type": "code",
   "execution_count": 5,
   "id": "094676e2",
   "metadata": {},
   "outputs": [],
   "source": [
    "class Node:\n",
    "    def __init__(self,data,prev=None,next=None):\n",
    "        self.data = data\n",
    "        self.prev = prev\n",
    "        self.next = next\n",
    "\n",
    "class MyLinkedList:\n",
    "    def __init__(self):\n",
    "        self.head = None\n",
    "        self.tail = None\n",
    "        \n",
    "    def insert(self,data):\n",
    "        if self.head==None:\n",
    "            self.head = Node(data)\n",
    "            self.tail = self.head\n",
    "        else:\n",
    "            node = self.head\n",
    "            while node.next:\n",
    "                node = node.next\n",
    "            newNode = Node(data,node)\n",
    "            node.next = newNode\n",
    "            self.tail = newNode\n",
    "            \n",
    "    def desc(self):\n",
    "        node = self.head\n",
    "        while node:\n",
    "            print(node.data)\n",
    "            node = node.next\n",
    "            \n",
    "    def insert_before(self,data,defore_data):\n",
    "        if self.head == None:\n",
    "            self.head = Node(data)\n",
    "            return True\n",
    "        else:\n",
    "            node = self.tail\n",
    "            while node.data != before_data:\n",
    "                node = node.prev\n",
    "                if node == None:\n",
    "                    return False\n",
    "            new = Node(data)\n",
    "            before_new = node.prev\n",
    "            before_new.next = new\n",
    "            new.prev = before_new\n",
    "            new.next = node\n",
    "            node.prev = new\n",
    "            return True\n",
    "        \n",
    "    def delete(self,data):\n",
    "        node = self.head\n",
    "        while node.data != data:\n",
    "            node = node.next\n",
    "            if node == None:\n",
    "                return False\n",
    "        \n",
    "        prevNode = node.prev\n",
    "        nextNode = node.next\n",
    "        prevNode.next = nextNode\n",
    "        nextNode.prev = prevNode\n",
    "        del node\n",
    "        return True"
   ]
  },
  {
   "cell_type": "code",
   "execution_count": 6,
   "id": "58ce67fd",
   "metadata": {},
   "outputs": [
    {
     "name": "stdout",
     "output_type": "stream",
     "text": [
      "0\n",
      "1\n",
      "2\n",
      "3\n",
      "4\n",
      "5\n",
      "6\n",
      "7\n",
      "8\n",
      "9\n"
     ]
    }
   ],
   "source": [
    "double_linked_list = MyLinkedList()\n",
    "for data in range(0, 10):\n",
    "    double_linked_list.insert(data)\n",
    "double_linked_list.desc()"
   ]
  },
  {
   "cell_type": "code",
   "execution_count": 7,
   "id": "12111c0f",
   "metadata": {},
   "outputs": [
    {
     "data": {
      "text/plain": [
       "True"
      ]
     },
     "execution_count": 7,
     "metadata": {},
     "output_type": "execute_result"
    }
   ],
   "source": [
    "double_linked_list.delete(4)"
   ]
  },
  {
   "cell_type": "code",
   "execution_count": 8,
   "id": "d953eeaf",
   "metadata": {},
   "outputs": [
    {
     "name": "stdout",
     "output_type": "stream",
     "text": [
      "0\n",
      "1\n",
      "2\n",
      "3\n",
      "5\n",
      "6\n",
      "7\n",
      "8\n",
      "9\n"
     ]
    }
   ],
   "source": [
    "double_linked_list.desc()"
   ]
  },
  {
   "cell_type": "code",
   "execution_count": null,
   "id": "e221362e",
   "metadata": {},
   "outputs": [],
   "source": []
  }
 ],
 "metadata": {
  "kernelspec": {
   "display_name": "Python 3",
   "language": "python",
   "name": "python3"
  },
  "language_info": {
   "codemirror_mode": {
    "name": "ipython",
    "version": 3
   },
   "file_extension": ".py",
   "mimetype": "text/x-python",
   "name": "python",
   "nbconvert_exporter": "python",
   "pygments_lexer": "ipython3",
   "version": "3.8.8"
  }
 },
 "nbformat": 4,
 "nbformat_minor": 5
}
