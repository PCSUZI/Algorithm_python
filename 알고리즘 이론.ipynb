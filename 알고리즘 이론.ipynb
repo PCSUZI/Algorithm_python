{
 "cells": [
  {
   "cell_type": "markdown",
   "id": "c2469c8b",
   "metadata": {},
   "source": [
    "## 버블 정렬 ( Bubble Sort )"
   ]
  },
  {
   "cell_type": "code",
   "execution_count": 1,
   "id": "16736f54",
   "metadata": {},
   "outputs": [
    {
     "name": "stdout",
     "output_type": "stream",
     "text": [
      "[14, 10, 8, 7, 6, 5, 2]\n"
     ]
    }
   ],
   "source": [
    "#버블 정렬\n",
    "\n",
    "data = [5,14,7,10,6,2,8]\n",
    "\n",
    "def bubbleSort(data):\n",
    "\tswap = False\n",
    "\tfor i in range(len(data)-1):\n",
    "\t\tswap = False\n",
    "\t\tfor j in range(len(data)-1-i):\n",
    "\t\t\tif data[j]<data[j+1]:\n",
    "\t\t\t\tdata[j],data[j+1]= data[j+1],data[j]\n",
    "\t\t\t\tswap = True\n",
    "\t\tif swap == False:\n",
    "\t\t\t\tbreak\n",
    "\n",
    "bubbleSort(data)\n",
    "print(data)"
   ]
  },
  {
   "cell_type": "markdown",
   "id": "bf781a0f",
   "metadata": {},
   "source": [
    "## 선택정렬 ( Selection Sort )"
   ]
  },
  {
   "cell_type": "code",
   "execution_count": 5,
   "id": "b89f42c9",
   "metadata": {},
   "outputs": [
    {
     "name": "stdout",
     "output_type": "stream",
     "text": [
      "[2, 5, 6, 7, 8, 10, 14]\n"
     ]
    }
   ],
   "source": [
    "#삽입 정렬\n",
    "data = [5,14,7,10,6,2,8]\n",
    "\n",
    "def insertionSort(data):\n",
    "    for index in range(len(data)-1):\n",
    "        for i in range(index+1,0,-1):\n",
    "            if data[i]<data[i-1]:\n",
    "                data[i],data[i-1] = data[i-1],data[i]\n",
    "            else:\n",
    "                break\n",
    "\n",
    "insertionSort(data)\n",
    "print(data)"
   ]
  },
  {
   "cell_type": "markdown",
   "id": "37879539",
   "metadata": {},
   "source": [
    "## 삽입 정렬 ( insertion sort )"
   ]
  },
  {
   "cell_type": "code",
   "execution_count": 7,
   "id": "882fdb3e",
   "metadata": {},
   "outputs": [
    {
     "name": "stdout",
     "output_type": "stream",
     "text": [
      "[2, 5, 6, 7, 8, 10, 14]\n"
     ]
    }
   ],
   "source": [
    "#삽입 정렬\n",
    "data = [5,14,7,10,6,2,8]\n",
    "def insertionSort(data):\n",
    "    for index in range(len(data)-1):\n",
    "        for i in range(index+1,0,-1):\n",
    "            if data[i]<data[i-1]:\n",
    "                data[i],data[i-1] = data[i-1],data[i]\n",
    "            else:\n",
    "                break\n",
    "\n",
    "insertionSort(data)\n",
    "print(data)"
   ]
  },
  {
   "cell_type": "markdown",
   "id": "40559581",
   "metadata": {},
   "source": [
    "## 재귀함수"
   ]
  },
  {
   "cell_type": "code",
   "execution_count": 9,
   "id": "2d991168",
   "metadata": {},
   "outputs": [
    {
     "data": {
      "text/plain": [
       "3628800"
      ]
     },
     "execution_count": 9,
     "metadata": {},
     "output_type": "execute_result"
    }
   ],
   "source": [
    "def multiple(data):\n",
    "    if data <= 1:\n",
    "        return data\n",
    "    \n",
    "    return data*multiple(data-1)\n",
    "\n",
    "multiple(10)"
   ]
  },
  {
   "cell_type": "code",
   "execution_count": 11,
   "id": "fb92960c",
   "metadata": {},
   "outputs": [
    {
     "name": "stdout",
     "output_type": "stream",
     "text": [
      "668\n"
     ]
    }
   ],
   "source": [
    "def sum_list(data):\n",
    "    if len(data)==1:\n",
    "        return data[0]\n",
    "    \n",
    "    return data[0]+sum_list(data[1:])\n",
    "\n",
    "import random\n",
    "data = random.sample(range(100),10)\n",
    "print(sum_list(data))"
   ]
  },
  {
   "cell_type": "code",
   "execution_count": 12,
   "id": "c6ee945b",
   "metadata": {},
   "outputs": [],
   "source": [
    "#회문 문제\n",
    "\n",
    "def palindrome(data):\n",
    "    if len(string) <=1:\n",
    "        return True\n",
    "    \n",
    "    if string[0]==string[-1]:\n",
    "        return palindrome(string[1:-1])\n",
    "    else:\n",
    "        return False\n",
    "    "
   ]
  },
  {
   "cell_type": "code",
   "execution_count": null,
   "id": "9624dee0",
   "metadata": {},
   "outputs": [],
   "source": []
  }
 ],
 "metadata": {
  "kernelspec": {
   "display_name": "Python 3",
   "language": "python",
   "name": "python3"
  },
  "language_info": {
   "codemirror_mode": {
    "name": "ipython",
    "version": 3
   },
   "file_extension": ".py",
   "mimetype": "text/x-python",
   "name": "python",
   "nbconvert_exporter": "python",
   "pygments_lexer": "ipython3",
   "version": "3.8.8"
  }
 },
 "nbformat": 4,
 "nbformat_minor": 5
}
