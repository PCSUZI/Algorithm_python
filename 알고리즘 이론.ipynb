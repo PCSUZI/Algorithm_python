{
 "cells": [
  {
   "cell_type": "markdown",
   "id": "258d5c01",
   "metadata": {},
   "source": [
    "## 버블 정렬 ( Bubble Sort )"
   ]
  },
  {
   "cell_type": "code",
   "execution_count": 1,
   "id": "d7a71c74",
   "metadata": {},
   "outputs": [
    {
     "name": "stdout",
     "output_type": "stream",
     "text": [
      "[14, 10, 8, 7, 6, 5, 2]\n"
     ]
    }
   ],
   "source": [
    "#버블 정렬\n",
    "\n",
    "data = [5,14,7,10,6,2,8]\n",
    "\n",
    "def bubbleSort(data):\n",
    "\tswap = False\n",
    "\tfor i in range(len(data)-1):\n",
    "\t\tswap = False\n",
    "\t\tfor j in range(len(data)-1-i):\n",
    "\t\t\tif data[j]<data[j+1]:\n",
    "\t\t\t\tdata[j],data[j+1]= data[j+1],data[j]\n",
    "\t\t\t\tswap = True\n",
    "\t\tif swap == False:\n",
    "\t\t\t\tbreak\n",
    "\n",
    "bubbleSort(data)\n",
    "print(data)"
   ]
  },
  {
   "cell_type": "markdown",
   "id": "b2747d68",
   "metadata": {},
   "source": [
    "## 선택정렬 ( Selection Sort )"
   ]
  },
  {
   "cell_type": "code",
   "execution_count": 5,
   "id": "801c65af",
   "metadata": {},
   "outputs": [
    {
     "name": "stdout",
     "output_type": "stream",
     "text": [
      "[2, 5, 6, 7, 8, 10, 14]\n"
     ]
    }
   ],
   "source": [
    "#삽입 정렬\n",
    "data = [5,14,7,10,6,2,8]\n",
    "\n",
    "def insertionSort(data):\n",
    "    for index in range(len(data)-1):\n",
    "        for i in range(index+1,0,-1):\n",
    "            if data[i]<data[i-1]:\n",
    "                data[i],data[i-1] = data[i-1],data[i]\n",
    "            else:\n",
    "                break\n",
    "\n",
    "insertionSort(data)\n",
    "print(data)"
   ]
  },
  {
   "cell_type": "markdown",
   "id": "4785270f",
   "metadata": {},
   "source": [
    "## 삽입 정렬 ( insertion sort )"
   ]
  },
  {
   "cell_type": "code",
   "execution_count": 7,
   "id": "ca32fa53",
   "metadata": {},
   "outputs": [
    {
     "name": "stdout",
     "output_type": "stream",
     "text": [
      "[2, 5, 6, 7, 8, 10, 14]\n"
     ]
    }
   ],
   "source": [
    "#삽입 정렬\n",
    "data = [5,14,7,10,6,2,8]\n",
    "def insertionSort(data):\n",
    "    for index in range(len(data)-1):\n",
    "        for i in range(index+1,0,-1):\n",
    "            if data[i]<data[i-1]:\n",
    "                data[i],data[i-1] = data[i-1],data[i]\n",
    "            else:\n",
    "                break\n",
    "\n",
    "insertionSort(data)\n",
    "print(data)"
   ]
  },
  {
   "cell_type": "markdown",
   "id": "877a92a3",
   "metadata": {},
   "source": [
    "## 재귀함수"
   ]
  },
  {
   "cell_type": "code",
   "execution_count": 9,
   "id": "e776122e",
   "metadata": {},
   "outputs": [
    {
     "data": {
      "text/plain": [
       "3628800"
      ]
     },
     "execution_count": 9,
     "metadata": {},
     "output_type": "execute_result"
    }
   ],
   "source": [
    "def multiple(data):\n",
    "    if data <= 1:\n",
    "        return data\n",
    "    \n",
    "    return data*multiple(data-1)\n",
    "\n",
    "multiple(10)"
   ]
  },
  {
   "cell_type": "code",
   "execution_count": 11,
   "id": "1137a477",
   "metadata": {},
   "outputs": [
    {
     "name": "stdout",
     "output_type": "stream",
     "text": [
      "668\n"
     ]
    }
   ],
   "source": [
    "def sum_list(data):\n",
    "    if len(data)==1:\n",
    "        return data[0]\n",
    "    \n",
    "    return data[0]+sum_list(data[1:])\n",
    "\n",
    "import random\n",
    "data = random.sample(range(100),10)\n",
    "print(sum_list(data))"
   ]
  },
  {
   "cell_type": "code",
   "execution_count": 12,
   "id": "cabd5a9f",
   "metadata": {},
   "outputs": [],
   "source": [
    "#회문 문제\n",
    "\n",
    "def palindrome(data):\n",
    "    if len(string) <=1:\n",
    "        return True\n",
    "    \n",
    "    if string[0]==string[-1]:\n",
    "        return palindrome(string[1:-1])\n",
    "    else:\n",
    "        return False\n",
    "    "
   ]
  },
  {
   "cell_type": "code",
   "execution_count": 16,
   "id": "eeac9d0f",
   "metadata": {},
   "outputs": [
    {
     "name": "stdout",
     "output_type": "stream",
     "text": [
      "3\n",
      "10\n",
      "5\n",
      "16\n",
      "8\n",
      "4\n",
      "2\n",
      "1\n"
     ]
    }
   ],
   "source": [
    "def func(n):\n",
    "    print(n)\n",
    "    if n==1:\n",
    "        return\n",
    "    \n",
    "    if n%2==1:\n",
    "        return func(3*n+1)\n",
    "    else:\n",
    "        return func(int(n/2))\n",
    "\n",
    "func(3)"
   ]
  },
  {
   "cell_type": "markdown",
   "id": "415b983a",
   "metadata": {},
   "source": [
    "## 퀵 정렬"
   ]
  },
  {
   "cell_type": "code",
   "execution_count": null,
   "id": "d7125603",
   "metadata": {},
   "outputs": [],
   "source": []
  }
 ],
 "metadata": {
  "kernelspec": {
   "display_name": "Python 3",
   "language": "python",
   "name": "python3"
  },
  "language_info": {
   "codemirror_mode": {
    "name": "ipython",
    "version": 3
   },
   "file_extension": ".py",
   "mimetype": "text/x-python",
   "name": "python",
   "nbconvert_exporter": "python",
   "pygments_lexer": "ipython3",
   "version": "3.8.8"
  }
 },
 "nbformat": 4,
 "nbformat_minor": 5
}
