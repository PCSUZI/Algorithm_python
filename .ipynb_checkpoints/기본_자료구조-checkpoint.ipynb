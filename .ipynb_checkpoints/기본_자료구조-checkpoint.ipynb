{
 "cells": [
  {
   "cell_type": "markdown",
   "id": "60b90577",
   "metadata": {},
   "source": [
    "## 큐 라이브러리 사용"
   ]
  },
  {
   "cell_type": "code",
   "execution_count": 9,
   "id": "d5855fc5",
   "metadata": {},
   "outputs": [
    {
     "data": {
      "text/plain": [
       "2"
      ]
     },
     "execution_count": 9,
     "metadata": {},
     "output_type": "execute_result"
    }
   ],
   "source": [
    "import queue\n",
    "data_queue = queue.Queue()\n",
    "data_queue.put(1)\n",
    "data_queue.put(\"funcoding\")\n",
    "\n",
    "data_queue.qsize()"
   ]
  },
  {
   "cell_type": "markdown",
   "id": "9d56a483",
   "metadata": {},
   "source": [
    "LifeQueue() -> LIFO \n",
    " / PriorityQueue() -> 우선순위 부여할 수 있다. 우선순위에 따라 출력하는 큐"
   ]
  },
  {
   "cell_type": "code",
   "execution_count": 14,
   "id": "4a183d59",
   "metadata": {},
   "outputs": [],
   "source": [
    "data = queue.PriorityQueue()\n",
    "\n",
    "data.put((1,\"korea\"))"
   ]
  },
  {
   "cell_type": "code",
   "execution_count": 15,
   "id": "acc340cb",
   "metadata": {},
   "outputs": [
    {
     "data": {
      "text/plain": [
       "(1, 'korea')"
      ]
     },
     "execution_count": 15,
     "metadata": {},
     "output_type": "execute_result"
    }
   ],
   "source": [
    "data.get()"
   ]
  },
  {
   "cell_type": "markdown",
   "id": "44229482",
   "metadata": {},
   "source": [
    "## 큐 직접 구현"
   ]
  },
  {
   "cell_type": "code",
   "execution_count": 21,
   "id": "d0adc059",
   "metadata": {},
   "outputs": [
    {
     "name": "stdout",
     "output_type": "stream",
     "text": [
      "0\n",
      "1\n",
      "2\n",
      "3\n"
     ]
    }
   ],
   "source": [
    "class MyQueue:\n",
    "    def __init__(self):\n",
    "        self.myData = []\n",
    "    def Enqueue(self, value):\n",
    "        self.myData.append(value)\n",
    "    def Dequeue(self):\n",
    "        result = self.myData[0]\n",
    "        del self.myData[0]\n",
    "        return result\n",
    "    \n",
    "myQueue = MyQueue()\n",
    "for index in range(10):\n",
    "    myQueue.Enqueue(index)\n",
    "\n",
    "print(myQueue.Dequeue())\n",
    "print(myQueue.Dequeue())\n",
    "print(myQueue.Dequeue())\n",
    "print(myQueue.Dequeue())"
   ]
  },
  {
   "cell_type": "markdown",
   "id": "e8af4b5f",
   "metadata": {},
   "source": [
    "## 스택\n"
   ]
  },
  {
   "cell_type": "code",
   "execution_count": 4,
   "id": "13a8b647",
   "metadata": {},
   "outputs": [
    {
     "name": "stdout",
     "output_type": "stream",
     "text": [
      "9\n",
      "8\n",
      "7\n",
      "6\n"
     ]
    }
   ],
   "source": [
    "class MyStack:\n",
    "    def __init__(self):\n",
    "        self.myData=[]\n",
    "    def push(self, value):\n",
    "        self.myData.append(value)\n",
    "    def pop(self):\n",
    "        index =len(self.myData)-1 #다른 방법 : self.myData[-1] ->맨 끝값 반환\n",
    "        if index < 0:\n",
    "            return False\n",
    "        else:\n",
    "            result = self.myData[index]\n",
    "            del self.myData[index]\n",
    "            return result\n",
    "            \n",
    "myStack = MyStack()\n",
    "for index in range(10):\n",
    "    myStack.push(index)\n",
    "\n",
    "print(myStack.pop())\n",
    "print(myStack.pop())\n",
    "print(myStack.pop())\n",
    "print(myStack.pop())"
   ]
  },
  {
   "cell_type": "markdown",
   "id": "2f0a17e0",
   "metadata": {},
   "source": [
    "## 링크드리스트"
   ]
  },
  {
   "cell_type": "code",
   "execution_count": 5,
   "id": "094676e2",
   "metadata": {},
   "outputs": [],
   "source": [
    "class Node:\n",
    "    def __init__(self,data,prev=None,next=None):\n",
    "        self.data = data\n",
    "        self.prev = prev\n",
    "        self.next = next\n",
    "\n",
    "class MyLinkedList:\n",
    "    def __init__(self):\n",
    "        self.head = None\n",
    "        self.tail = None\n",
    "        \n",
    "    def insert(self,data):\n",
    "        if self.head==None:\n",
    "            self.head = Node(data)\n",
    "            self.tail = self.head\n",
    "        else:\n",
    "            node = self.head\n",
    "            while node.next:\n",
    "                node = node.next\n",
    "            newNode = Node(data,node)\n",
    "            node.next = newNode\n",
    "            self.tail = newNode\n",
    "            \n",
    "    def desc(self):\n",
    "        node = self.head\n",
    "        while node:\n",
    "            print(node.data)\n",
    "            node = node.next\n",
    "            \n",
    "    def insert_before(self,data,defore_data):\n",
    "        if self.head == None:\n",
    "            self.head = Node(data)\n",
    "            return True\n",
    "        else:\n",
    "            node = self.tail\n",
    "            while node.data != before_data:\n",
    "                node = node.prev\n",
    "                if node == None:\n",
    "                    return False\n",
    "            new = Node(data)\n",
    "            before_new = node.prev\n",
    "            before_new.next = new\n",
    "            new.prev = before_new\n",
    "            new.next = node\n",
    "            node.prev = new\n",
    "            return True\n",
    "        \n",
    "    def delete(self,data):\n",
    "        node = self.head\n",
    "        while node.data != data:\n",
    "            node = node.next\n",
    "            if node == None:\n",
    "                return False\n",
    "        \n",
    "        prevNode = node.prev\n",
    "        nextNode = node.next\n",
    "        prevNode.next = nextNode\n",
    "        nextNode.prev = prevNode\n",
    "        del node\n",
    "        return True"
   ]
  },
  {
   "cell_type": "code",
   "execution_count": 6,
   "id": "58ce67fd",
   "metadata": {},
   "outputs": [
    {
     "name": "stdout",
     "output_type": "stream",
     "text": [
      "0\n",
      "1\n",
      "2\n",
      "3\n",
      "4\n",
      "5\n",
      "6\n",
      "7\n",
      "8\n",
      "9\n"
     ]
    }
   ],
   "source": [
    "double_linked_list = MyLinkedList()\n",
    "for data in range(0, 10):\n",
    "    double_linked_list.insert(data)\n",
    "double_linked_list.desc()"
   ]
  },
  {
   "cell_type": "code",
   "execution_count": 7,
   "id": "12111c0f",
   "metadata": {},
   "outputs": [
    {
     "data": {
      "text/plain": [
       "True"
      ]
     },
     "execution_count": 7,
     "metadata": {},
     "output_type": "execute_result"
    }
   ],
   "source": [
    "double_linked_list.delete(4)"
   ]
  },
  {
   "cell_type": "code",
   "execution_count": 8,
   "id": "d953eeaf",
   "metadata": {},
   "outputs": [
    {
     "name": "stdout",
     "output_type": "stream",
     "text": [
      "0\n",
      "1\n",
      "2\n",
      "3\n",
      "5\n",
      "6\n",
      "7\n",
      "8\n",
      "9\n"
     ]
    }
   ],
   "source": [
    "double_linked_list.desc()"
   ]
  },
  {
   "cell_type": "markdown",
   "id": "e7f13ea9",
   "metadata": {},
   "source": [
    "## 이진 탐색 트리"
   ]
  },
  {
   "cell_type": "code",
   "execution_count": 38,
   "id": "6b3306dd",
   "metadata": {},
   "outputs": [],
   "source": [
    "class Node:\n",
    "    def __init__(self, value):\n",
    "        self.value = value\n",
    "        self.left = None\n",
    "        self.right = None\n",
    "\n",
    "        \n",
    "class NodeMgmt:\n",
    "    def __init__(self, head):\n",
    "        self.head = head\n",
    "    \n",
    "    def insert(self, value):\n",
    "        self.current_node = self.head\n",
    "        while True:\n",
    "            if value < self.current_node.value:\n",
    "                if self.current_node.left != None:\n",
    "                    self.current_node = self.current_node.left\n",
    "                else:\n",
    "                    self.current_node.left = Node(value)\n",
    "                    break\n",
    "            else:\n",
    "                if self.current_node.right != None:\n",
    "                    self.current_node = self.current_node.right\n",
    "                else:\n",
    "                    self.current_node.right = Node(value)\n",
    "                    break\n",
    "    \n",
    "    def search(self, value):\n",
    "        self.current_node = self.head\n",
    "        while self.current_node:\n",
    "            if self.current_node.value == value:\n",
    "                return True\n",
    "            elif value < self.current_node.value:\n",
    "                self.current_node = self.current_node.left\n",
    "            else:\n",
    "                self.current_node = self.current_node.right\n",
    "        return False        \n",
    "    \n",
    "    def delete(self, value):\n",
    "        # 삭제할 노드 탐색\n",
    "        searched = False\n",
    "        self.current_node = self.head\n",
    "        self.parent = self.head\n",
    "        while self.current_node:\n",
    "            if self.current_node.value == value:\n",
    "                searched = True\n",
    "                break\n",
    "            elif value < self.current_node.value:\n",
    "                self.parent = self.current_node\n",
    "                self.current_node = self.current_node.left\n",
    "            else:\n",
    "                self.parent = self.current_node\n",
    "                self.current_node = self.current_node.right\n",
    "\n",
    "        if searched == False:\n",
    "            return False    \n",
    "\n",
    "        # case1\n",
    "        if  self.current_node.left == None and self.current_node.right == None:\n",
    "            if value < self.parent.value:\n",
    "                self.parent.left = None\n",
    "            else:\n",
    "                self.parent.right = None\n",
    "        \n",
    "        # case2\n",
    "        elif self.current_node.left != None and self.current_node.right == None:\n",
    "            if value < self.parent.value:\n",
    "                self.parent.left = self.current_node.left\n",
    "            else:\n",
    "                self.parent.right = self.current_node.left\n",
    "        elif self.current_node.left == None and self.current_node.right != None:\n",
    "            if value < self.parent.value:\n",
    "                self.parent.left = self.current_node.right\n",
    "            else:\n",
    "                self.parent.right = self.current_node.right        \n",
    "        \n",
    "        # case 3\n",
    "        elif self.current_node.left != None and self.current_node.right != None:\n",
    "            # case3-1\n",
    "            if value < self.parent.value:\n",
    "                self.change_node = self.current_node.right\n",
    "                self.change_node_parent = self.current_node.right\n",
    "                while self.change_node.left != None:\n",
    "                    self.change_node_parent = self.change_node\n",
    "                    self.change_node = self.change_node.left\n",
    "                if self.change_node.right != None:\n",
    "                    self.change_node_parent.left = self.change_node.right\n",
    "                else:\n",
    "                    self.change_node_parent.left = None\n",
    "                self.parent.left = self.change_node\n",
    "                self.change_node.right = self.current_node.right\n",
    "                self.change_node.left = self.change_node.left\n",
    "            # case 3-2\n",
    "            else:\n",
    "                self.change_node = self.current_node.right\n",
    "                self.change_node_parent = self.current_node.right\n",
    "                while self.change_node.left != None:\n",
    "                    self.change_node_parent = self.change_node\n",
    "                    self.change_node = self.change_node.left\n",
    "                if self.change_node.right != None:\n",
    "                    self.change_node_parent.left = self.change_node.right\n",
    "                else:\n",
    "                    self.change_node_parent.left = None\n",
    "                self.parent.right = self.change_node\n",
    "                self.change_node.right = self.current_node.right\n",
    "                self.change_node.left = self.current_node.left\n",
    "\n",
    "        return True"
   ]
  },
  {
   "cell_type": "code",
   "execution_count": 23,
   "id": "8096982a",
   "metadata": {},
   "outputs": [],
   "source": [
    "myBST = BST(3)\n",
    "myBST.insert(5)\n",
    "myBST.insert(1)\n",
    "myBST.insert(2)\n",
    "myBST.insert(0)"
   ]
  },
  {
   "cell_type": "code",
   "execution_count": 24,
   "id": "78ecb63f",
   "metadata": {},
   "outputs": [
    {
     "name": "stdout",
     "output_type": "stream",
     "text": [
      "True\n"
     ]
    }
   ],
   "source": [
    "print(myBST.search(2))"
   ]
  },
  {
   "cell_type": "code",
   "execution_count": 26,
   "id": "26bdae92",
   "metadata": {},
   "outputs": [
    {
     "name": "stdout",
     "output_type": "stream",
     "text": [
      "False\n"
     ]
    }
   ],
   "source": [
    "print(myBST.search(8))"
   ]
  },
  {
   "cell_type": "code",
   "execution_count": null,
   "id": "cb0fe6ac",
   "metadata": {},
   "outputs": [],
   "source": []
  }
 ],
 "metadata": {
  "kernelspec": {
   "display_name": "Python 3",
   "language": "python",
   "name": "python3"
  },
  "language_info": {
   "codemirror_mode": {
    "name": "ipython",
    "version": 3
   },
   "file_extension": ".py",
   "mimetype": "text/x-python",
   "name": "python",
   "nbconvert_exporter": "python",
   "pygments_lexer": "ipython3",
   "version": "3.8.8"
  }
 },
 "nbformat": 4,
 "nbformat_minor": 5
}
